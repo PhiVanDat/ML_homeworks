{
  "cells": [
    {
      "cell_type": "markdown",
      "metadata": {
        "id": "5Hfbb2nzl9DZ"
      },
      "source": [
        "# Pre-processing News Data"
      ]
    },
    {
      "cell_type": "markdown",
      "metadata": {
        "id": "T1elcGz7huoP"
      },
      "source": [
        "## Bài toán\n",
        "Dữ liệu gồm n văn bản phân vào 10 chủ đề khác nhau. Cần biễu diễn mỗi văn bản dưới dạng một vector số thể hiện cho nội dụng của văn bản đó."
      ]
    },
    {
      "cell_type": "markdown",
      "metadata": {
        "id": "lyy4DDvuhuoU"
      },
      "source": [
        "## Mục lục\n",
        "- Load dữ liệu từ thư mục\n",
        "- Loại bỏ các stop words\n",
        "- Sử dụng thư viện để mã hóa TF-IDF cho mỗi văn bản"
      ]
    },
    {
      "cell_type": "markdown",
      "metadata": {
        "id": "-_akck0KhuoW"
      },
      "source": [
        "## Phương pháp mã hóa: TF-IDF\n",
        "Cho tập gồm $n$ văn bản: $D = \\{d_1, d_2, ... d_n\\}$. Tập từ điển tương ứng được xây dựng từ $n$ văn bản này có độ dài là $m$\n",
        "- Xét văn bản $d$ có $|d|$ từ và $t$ là một từ trong $d$. Mã hóa tf-idf của $t$ trong văn bản $d$ được biểu diễn:\n",
        "\\begin{equation}\n",
        "    \\begin{split}\n",
        "        \\text{tf}_{t, d} &= \\frac{f_t}{|d|} \\\\\n",
        "        \\text{idf}_{t, d} &= \\log\\frac{n}{n_t}, \\ \\ \\ \\ n_t = |\\{d\\in D: t\\in d\\}| \\\\\n",
        "        \\text{tf-idf}_{t d} &= \\text{tf}_{t, d} \\times \\text{idf}_{t, d}\n",
        "    \\end{split}\n",
        "\\end{equation}\n",
        "\n",
        "- Khi đó văn bản $d$ được mã hóa là một vector $m$ chiều. Các từ xuất hiện trong d sẽ được thay bằng giá trị tf-idf tương ứng. Các từ không xuất hiện trong $d$ thì thay là 0"
      ]
    },
    {
      "cell_type": "code",
      "execution_count": 8,
      "metadata": {
        "colab": {
          "base_uri": "https://localhost:8080/"
        },
        "id": "Mwm8sgwVIeAb",
        "outputId": "7715c36d-03da-48d1-dacd-10c3dcd234ac"
      },
      "outputs": [
        {
          "output_type": "stream",
          "name": "stdout",
          "text": [
            "Requirement already satisfied: pyvi in /usr/local/lib/python3.10/dist-packages (0.1.1)\n",
            "Requirement already satisfied: scikit-learn in /usr/local/lib/python3.10/dist-packages (from pyvi) (1.3.2)\n",
            "Requirement already satisfied: sklearn-crfsuite in /usr/local/lib/python3.10/dist-packages (from pyvi) (0.5.0)\n",
            "Requirement already satisfied: numpy<2.0,>=1.17.3 in /usr/local/lib/python3.10/dist-packages (from scikit-learn->pyvi) (1.26.4)\n",
            "Requirement already satisfied: scipy>=1.5.0 in /usr/local/lib/python3.10/dist-packages (from scikit-learn->pyvi) (1.13.1)\n",
            "Requirement already satisfied: joblib>=1.1.1 in /usr/local/lib/python3.10/dist-packages (from scikit-learn->pyvi) (1.4.2)\n",
            "Requirement already satisfied: threadpoolctl>=2.0.0 in /usr/local/lib/python3.10/dist-packages (from scikit-learn->pyvi) (3.5.0)\n",
            "Requirement already satisfied: python-crfsuite>=0.9.7 in /usr/local/lib/python3.10/dist-packages (from sklearn-crfsuite->pyvi) (0.9.10)\n",
            "Requirement already satisfied: tabulate>=0.4.2 in /usr/local/lib/python3.10/dist-packages (from sklearn-crfsuite->pyvi) (0.9.0)\n",
            "Requirement already satisfied: tqdm>=2.0 in /usr/local/lib/python3.10/dist-packages (from sklearn-crfsuite->pyvi) (4.66.5)\n"
          ]
        }
      ],
      "source": [
        "!pip install pyvi"
      ]
    },
    {
      "cell_type": "code",
      "execution_count": 9,
      "metadata": {
        "id": "4eQuwrwZhuoY"
      },
      "outputs": [],
      "source": [
        "import os\n",
        "import matplotlib.pyplot as plt\n",
        "import numpy as np\n",
        "\n",
        "from sklearn.datasets import load_files\n",
        "from pyvi import ViTokenizer\n",
        "from sklearn.feature_extraction.text import CountVectorizer\n",
        "from sklearn.feature_extraction.text import TfidfTransformer\n",
        "from sklearn.pipeline import Pipeline\n",
        "\n",
        "%matplotlib inline"
      ]
    },
    {
      "cell_type": "markdown",
      "metadata": {
        "id": "rqNL4mwDhuoa"
      },
      "source": [
        "## Load dữ liệu từ thư mục\n",
        "\n",
        "Cấu trúc thư mục như sau\n",
        "\n",
        "- data/news_vnexpress/\n",
        "\n",
        "    - Kinh tế:\n",
        "        - bài báo 1.txt\n",
        "        - bài báo 2.txt\n",
        "    - Pháp luật\n",
        "        - bài báo 3.txt\n",
        "        - bài báo 4.txt"
      ]
    },
    {
      "cell_type": "code",
      "execution_count": 10,
      "metadata": {
        "id": "tty49E_ohuoa"
      },
      "outputs": [],
      "source": [
        "INPUT = '/content/drive/MyDrive/Dataset/news_vnexpress'\n",
        "os.makedirs(\"images\",exist_ok=True)  # thư mục lưu các các hình ảnh trong quá trình huấn luyện và đánh gía"
      ]
    },
    {
      "cell_type": "code",
      "execution_count": 11,
      "metadata": {
        "colab": {
          "base_uri": "https://localhost:8080/"
        },
        "id": "Ru3Ct7Zphuob",
        "outputId": "25c2fe58-bd7f-43f6-91c5-37e1064c94d6"
      },
      "outputs": [
        {
          "output_type": "stream",
          "name": "stdout",
          "text": [
            "Các nhãn và số văn bản tương ứng trong dữ liệu\n",
            "----------------------------------------------\n",
            "du-lich: 54\n",
            "suc-khoe: 25\n",
            "kinh-doanh: 262\n",
            "khoa-hoc: 144\n",
            "phap-luat: 59\n",
            "giai-tri: 201\n",
            "thoi-su: 0\n",
            "doi-song: 120\n",
            "the-thao: 0\n",
            "giao-duc: 105\n",
            "-------------------------\n",
            "Tổng số văn bản: 970\n"
          ]
        }
      ],
      "source": [
        "# Statistic\n",
        "print('Các nhãn và số văn bản tương ứng trong dữ liệu')\n",
        "print('----------------------------------------------')\n",
        "\n",
        "n = 0\n",
        "for label in os.listdir(INPUT):\n",
        "    label_path = os.path.join(INPUT, label)\n",
        "    # Check if the item is a directory\n",
        "    if os.path.isdir(label_path):\n",
        "        num_files = len(os.listdir(label_path))\n",
        "        print(f'{label}: {num_files}')\n",
        "        n += num_files\n",
        "\n",
        "print('-------------------------')\n",
        "print(f\"Tổng số văn bản: {n}\")"
      ]
    },
    {
      "cell_type": "code",
      "source": [
        "from google.colab import drive\n",
        "drive.mount('/content/drive')"
      ],
      "metadata": {
        "colab": {
          "base_uri": "https://localhost:8080/"
        },
        "id": "z4EDDdFwh8LN",
        "outputId": "3213b82d-e4ca-41b6-efa9-ec31724017a3"
      },
      "execution_count": 12,
      "outputs": [
        {
          "output_type": "stream",
          "name": "stdout",
          "text": [
            "Drive already mounted at /content/drive; to attempt to forcibly remount, call drive.mount(\"/content/drive\", force_remount=True).\n"
          ]
        }
      ]
    },
    {
      "cell_type": "code",
      "execution_count": 13,
      "metadata": {
        "colab": {
          "base_uri": "https://localhost:8080/"
        },
        "id": "j3tycWTfhuoc",
        "outputId": "f1a87e0a-add2-4d06-c795-b3aa74723500"
      },
      "outputs": [
        {
          "output_type": "stream",
          "name": "stdout",
          "text": [
            "mapping:\n",
            "doi-song - 0\n",
            "du-lich - 1\n",
            "giai-tri - 2\n",
            "giao-duc - 3\n",
            "khoa-hoc - 4\n",
            "kinh-doanh - 5\n",
            "phap-luat - 6\n",
            "suc-khoe - 7\n",
            "the-thao - 8\n",
            "thoi-su - 9\n",
            "--------------------------\n",
            "['/content/drive/MyDrive/Dataset/news_vnexpress/phap-luat/00047.txt']\n",
            "[6]\n",
            "['Giao dịch chỉ viết giấy tay có hàng xóm làm chứng. Tôi sử dụng nhà đất ổn định từ khi mua đến nay. Xin hỏi, tôi đã lỡ mua nhà đất viết giấy tờ tay như trên, giờ phải làm sao để hạn chế rủi ro?Luật sư tư vấnCăn cứ điều 101 Luật Đất đai năm 2013 và điều 82 Nghị định 43/2014/NĐ-CP (được sửa đổi, bổ sung bởi Nghị định 01/2017/NĐ-CP), trường hợp mua nhà đất bằng giấy tờ tay trước ngày 1/1/2008 mà chưa được cấp Giấy chứng nhận quyền sử dụng đất, quyền sở hữu nhà ở và tài sản khác gắn liền với đất (thực tế thường gọi là sổ đỏ) nếu đảm bảo được các điều kiện sau đây sẽ được cấp sổ đỏ:- Hộ gia đình, cá nhân đang sử dụng đất đã được sử dụng ổn định từ trước ngày 1/7/2004.- Không vi phạm pháp luật về đất đai.- Được UBND cấp xã xác nhận là đất không có tranh chấp, phù hợp với quy hoạch sử dụng đất, quy hoạch chi tiết xây dựng đô thị, quy hoạch xây dựng điểm dân cư nông thôn đã được cơ quan nhà nước có thẩm quyền phê duyệt đối với nơi đã có quy hoạch.Như vậy, bạn nhận chuyển nhượng nhà đất vào năm 2003 (trước ngày 1/1/2008) và sử dụng đất ổn định từ năm 2003 (trước ngày 1/7/2004) sẽ được cấp sổ đỏ nếu không vi phạm pháp luật về đất đai và được UBND cấp xã xác nhận là đất không có tranh chấp, phù hợp với quy hoạch sử dụng đất.Lưu ý, khi làm thủ tục cấp sổ đỏ với trường hợp này, bạn không phải làm thủ tục chuyển quyền sử dụng đất; cơ quan tiếp nhận hồ sơ không được yêu cầu người nhận chuyển quyền sử dụng đất nộp hợp đồng, văn bản chuyển quyền sử dụng đất theo quy định của pháp luật.Trường hợp mua nhà đất bằng giấy tờ tay không thỏa điều kiện nêu trên thì tạm thời chưa được cấp sổ đỏ. Người dân được quyền sử dụng nhà đất đó đến khi Nhà nước có quy định mới hướng dẫn xử lý.Tuy nhiên, hộ gia đình, cá nhân phải thực hiện việc đăng ký đất đai theo quy định tại điều 95 Luật Đất đai 2013. Việc đăng ký này sẽ góp phần giảm rủi ro khi có tranh chấp xảy ra; có thể đây là một trong những cơ sở để chứng minh việc sử dụng đất ổn định, không có tranh chấp... nhằm phục vụ cho việc làm thủ tục cấp sổ đỏ về sau (nếu có).Luật sư Phạm Thanh HữuĐoàn luật sư TP HCM\\n']\n",
            "\n",
            "Tổng số  văn bản: 970\n"
          ]
        }
      ],
      "source": [
        "# load data\n",
        "data_train = load_files(container_path=INPUT, encoding=\"utf-8\")\n",
        "print('mapping:')\n",
        "for i in range(len(data_train.target_names)):\n",
        "    print(f'{data_train.target_names[i]} - {i}')\n",
        "\n",
        "print('--------------------------')\n",
        "print(data_train.filenames[0:1])\n",
        "# print(data_train.data[0:1])\n",
        "print(data_train.target[0:1])\n",
        "print(data_train.data[0:1])\n",
        "\n",
        "print(\"\\nTổng số  văn bản: {}\" .format( len(data_train.filenames)))"
      ]
    },
    {
      "cell_type": "markdown",
      "metadata": {
        "id": "HU06Y_BKhuoe"
      },
      "source": [
        "## Chuyển dữ liệu dạng text về ma trận (n x m) bằng TF-IDF"
      ]
    },
    {
      "cell_type": "markdown",
      "metadata": {
        "id": "I6vG0C2ima31"
      },
      "source": [
        "* Bạn cần viết đoạn mã tương ứng trong cell bên dưới. Theo các bước được gợi ý"
      ]
    },
    {
      "cell_type": "code",
      "execution_count": 14,
      "metadata": {
        "id": "Ns9j8Hgrhuof",
        "colab": {
          "base_uri": "https://localhost:8080/"
        },
        "outputId": "110f3061-dc1e-48e0-baf7-3451a630a2ce"
      },
      "outputs": [
        {
          "output_type": "stream",
          "name": "stdout",
          "text": [
            "số lượng stopwords: 823\n",
            "['a_lô', 'a_ha', 'ai', 'ai_ai', 'ai_nấy', 'ai_đó', 'alô', 'amen', 'anh', 'anh_ấy']\n",
            "\n",
            "Số lượng từ trong từ điển: 10665\n",
            "Kích thước dữ liệu sau khi xử lý: (970, 10665)\n",
            "Kích thước nhãn tương ứng: (970,)\n"
          ]
        }
      ],
      "source": [
        "# load dữ liệu các stopwords\n",
        "stop_word=['a_lô', 'a_ha', 'ai', 'ai_ai', 'ai_nấy', 'ai_đó', 'alô', 'amen', 'anh','anh_ấy']\n",
        "num=0\n",
        "for i in data_train.data:\n",
        "    for j in i.split():\n",
        "        if j in stop_word:\n",
        "            num+=1\n",
        "print(f'số lượng stopwords: {num}')\n",
        "print(stop_word)\n",
        "# Chuyển hoá dữ liệu text về dạng vector TF\n",
        "#     - loại bỏ từ dừng\n",
        "#     - sinh từ điển\n",
        "count_vectorizer=CountVectorizer(stop_words=stop_word)\n",
        "count_matrix=count_vectorizer.fit_transform(data_train.data)\n",
        "# Hàm thực hiện chuyển đổi dữ liệu text thành dữ liệu số dạng ma trận\n",
        "# Input: Dữ liệu 2 chiều dạng numpy.array, mảng nhãn id dạng numpy.array\n",
        "tfidf_transformer=TfidfTransformer()\n",
        "data_preprocessed=tfidf_transformer.fit_transform(count_matrix)\n",
        "\n",
        "\n",
        "X = data_preprocessed # thuoc tinh\n",
        "Y = data_train.target #nhan\n",
        "\n",
        "print(f\"\\nSố lượng từ trong từ điển: {len(count_vectorizer.vocabulary_)}\")\n",
        "print(f\"Kích thước dữ liệu sau khi xử lý: {X.shape}\")\n",
        "print(f\"Kích thước nhãn tương ứng: {Y.shape}\")"
      ]
    },
    {
      "cell_type": "code",
      "execution_count": 20,
      "metadata": {
        "id": "CzIuAyLphuoi",
        "colab": {
          "base_uri": "https://localhost:8080/"
        },
        "outputId": "fee20d9b-5e86-4cdb-b500-3c7d0d72d87a"
      },
      "outputs": [
        {
          "output_type": "stream",
          "name": "stdout",
          "text": [
            "[[0. 0. 0. ... 0. 0. 0.]]\n",
            "2\n"
          ]
        }
      ],
      "source": [
        "print(X[100].toarray())\n",
        "print(Y[100])"
      ]
    },
    {
      "cell_type": "code",
      "execution_count": 16,
      "metadata": {
        "id": "apf3ulZhhuoi",
        "colab": {
          "base_uri": "https://localhost:8080/"
        },
        "outputId": "6806995a-5fb7-4253-bc74-56ce8c5bc35c"
      },
      "outputs": [
        {
          "output_type": "execute_result",
          "data": {
            "text/plain": [
              "252"
            ]
          },
          "metadata": {},
          "execution_count": 16
        }
      ],
      "source": [
        "sum(sum(X[100].toarray() != 0))"
      ]
    },
    {
      "cell_type": "code",
      "execution_count": 17,
      "metadata": {
        "id": "5FjwPJlfhuoj",
        "colab": {
          "base_uri": "https://localhost:8080/"
        },
        "outputId": "7e82c7aa-59e4-4b13-f9ef-2d4b70eb0eb6"
      },
      "outputs": [
        {
          "output_type": "stream",
          "name": "stdout",
          "text": [
            "  (0, 10628)\t0.07998012341581921\n",
            "  (0, 10594)\t0.06643423062733328\n",
            "  (0, 10589)\t0.019579751399617266\n",
            "  (0, 10587)\t0.08465196025310555\n",
            "  (0, 10583)\t0.05066574005668484\n",
            "  (0, 10567)\t0.03570114277766295\n",
            "  (0, 10555)\t0.03234845770816448\n",
            "  (0, 10544)\t0.036267506369680284\n",
            "  (0, 10521)\t0.03542866610014448\n",
            "  (0, 10509)\t0.030614599891615173\n",
            "  (0, 10507)\t0.033988434135753066\n",
            "  (0, 10502)\t0.0229266232912506\n",
            "  (0, 10499)\t0.04373751155166477\n",
            "  (0, 10475)\t0.050027910361305654\n",
            "  (0, 10473)\t0.03228434586375393\n",
            "  (0, 10454)\t0.028736356417743473\n",
            "  (0, 10450)\t0.039988091716163014\n",
            "  (0, 10430)\t0.031229164660483782\n",
            "  (0, 10410)\t0.04942280461394976\n",
            "  (0, 10401)\t0.09826301292660627\n",
            "  (0, 10377)\t0.04351517071233015\n",
            "  (0, 10375)\t0.0219105597578166\n",
            "  (0, 10338)\t0.03570114277766295\n",
            "  (0, 10328)\t0.059517076919829444\n",
            "  (0, 9906)\t0.0298046855473653\n",
            "  :\t:\n",
            "  (0, 2009)\t0.029561666264261727\n",
            "  (0, 1782)\t0.10851361197736671\n",
            "  (0, 1762)\t0.030614599891615173\n",
            "  (0, 1751)\t0.02370047283858495\n",
            "  (0, 1744)\t0.07180308297167581\n",
            "  (0, 1705)\t0.02757027450869507\n",
            "  (0, 1680)\t0.12576303246293843\n",
            "  (0, 1678)\t0.07489693726162878\n",
            "  (0, 1661)\t0.039343287751767264\n",
            "  (0, 1634)\t0.04351517071233015\n",
            "  (0, 1348)\t0.05820495080544906\n",
            "  (0, 1286)\t0.07998012341581921\n",
            "  (0, 1218)\t0.06840930455423656\n",
            "  (0, 1193)\t0.055233256214843394\n",
            "  (0, 1012)\t0.028334718454018\n",
            "  (0, 440)\t0.045039478368485195\n",
            "  (0, 348)\t0.03472855681553303\n",
            "  (0, 347)\t0.041245764169806354\n",
            "  (0, 344)\t0.046327699762025644\n",
            "  (0, 342)\t0.05099807120764989\n",
            "  (0, 341)\t0.05405951847412409\n",
            "  (0, 340)\t0.05363049025964989\n",
            "  (0, 299)\t0.058842780500828244\n",
            "  (0, 231)\t0.07658634499837998\n",
            "  (0, 94)\t0.032849578556503944\n"
          ]
        }
      ],
      "source": [
        "print(X[100])"
      ]
    }
  ],
  "metadata": {
    "accelerator": "GPU",
    "colab": {
      "gpuType": "T4",
      "provenance": []
    },
    "kernelspec": {
      "display_name": "Python 3",
      "name": "python3"
    },
    "language_info": {
      "codemirror_mode": {
        "name": "ipython",
        "version": 3
      },
      "file_extension": ".py",
      "mimetype": "text/x-python",
      "name": "python",
      "nbconvert_exporter": "python",
      "pygments_lexer": "ipython3",
      "version": "3.8.10"
    }
  },
  "nbformat": 4,
  "nbformat_minor": 0
}